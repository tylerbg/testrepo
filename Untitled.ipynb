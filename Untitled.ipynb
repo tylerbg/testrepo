{
 "cells": [
  {
   "cell_type": "markdown",
   "id": "2acf99fb-0745-4ee5-bd3d-1eb169ba035f",
   "metadata": {},
   "source": [
    "# My Jupyter Notebook on IBM Watson Studio"
   ]
  },
  {
   "cell_type": "markdown",
   "id": "ae3efb58-7204-48fd-b5d9-ca613e7d0017",
   "metadata": {},
   "source": [
    "**Tyler Garner**<br>\n",
    "Graduate Student"
   ]
  },
  {
   "cell_type": "markdown",
   "id": "6d4c5283-ef14-449d-87db-108461693551",
   "metadata": {},
   "source": [
    "*I am interested in data science because I love exploring and manipulating data to discover new and interesting things from it. A lot of Data Science is like solving a puzzle, and then presenting your results to others.*"
   ]
  },
  {
   "cell_type": "markdown",
   "id": "ec60f269-1c1f-44e0-976a-59ca46cdadae",
   "metadata": {},
   "source": [
    "### The following line of code will calculate the square of 2."
   ]
  },
  {
   "cell_type": "code",
   "execution_count": 2,
   "id": "850efc80-de04-4552-820a-02a77d760db1",
   "metadata": {},
   "outputs": [
    {
     "data": {
      "text/plain": [
       "4"
      ]
     },
     "execution_count": 2,
     "metadata": {},
     "output_type": "execute_result"
    }
   ],
   "source": [
    "2**2"
   ]
  },
  {
   "cell_type": "markdown",
   "id": "457b7629-2b9c-4dca-9c40-18f40b77c499",
   "metadata": {},
   "source": [
    "The squares of 3, 4, and 5 are:\n",
    "* 9,\n",
    "* 16, and\n",
    "* 25.\n",
    "\n",
    "\n",
    "You can use two tildes to ~~strike through text.~~\n",
    "\n",
    "\n",
    "The square of 6 is: `6 x 6 = 36`"
   ]
  }
 ],
 "metadata": {
  "kernelspec": {
   "display_name": "Python",
   "language": "python",
   "name": "conda-env-python-py"
  },
  "language_info": {
   "codemirror_mode": {
    "name": "ipython",
    "version": 3
   },
   "file_extension": ".py",
   "mimetype": "text/x-python",
   "name": "python",
   "nbconvert_exporter": "python",
   "pygments_lexer": "ipython3",
   "version": "3.7.12"
  }
 },
 "nbformat": 4,
 "nbformat_minor": 5
}
